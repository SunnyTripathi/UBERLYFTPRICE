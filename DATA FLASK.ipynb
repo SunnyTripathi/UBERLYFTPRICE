{
 "cells": [
  {
   "cell_type": "code",
   "execution_count": null,
   "id": "6fb7f6e6",
   "metadata": {},
   "outputs": [
    {
     "name": "stdout",
     "output_type": "stream",
     "text": [
      " * Serving Flask app \"__main__\" (lazy loading)\n",
      " * Environment: production\n",
      "\u001b[31m   WARNING: This is a development server. Do not use it in a production deployment.\u001b[0m\n",
      "\u001b[2m   Use a production WSGI server instead.\u001b[0m\n",
      " * Debug mode: off\n"
     ]
    },
    {
     "name": "stderr",
     "output_type": "stream",
     "text": [
      " * Running on http://127.0.0.1:5000/ (Press CTRL+C to quit)\n",
      "127.0.0.1 - - [10/Jul/2021 21:09:56] \"\u001b[37mGET / HTTP/1.1\u001b[0m\" 200 -\n",
      "127.0.0.1 - - [10/Jul/2021 21:09:56] \"\u001b[33mGET /index.png HTTP/1.1\u001b[0m\" 404 -\n",
      "127.0.0.1 - - [10/Jul/2021 21:09:56] \"\u001b[33mGET /favicon.ico HTTP/1.1\u001b[0m\" 404 -\n",
      "127.0.0.1 - - [10/Jul/2021 21:10:07] \"\u001b[37mPOST /predict HTTP/1.1\u001b[0m\" 200 -\n"
     ]
    }
   ],
   "source": [
    "import pickle\n",
    "import numpy as np\n",
    "from flask import Flask,redirect,url_for,render_template,request\n",
    "\n",
    "app=Flask(__name__,template_folder='template')\n",
    "lr=pickle.load(open(\"DATA PROJECT1.pkl\",'rb'))\n",
    "\n",
    "@app.route(\"/\")\n",
    "def index():\n",
    "    return render_template('index.html')\n",
    "\n",
    "\n",
    "@app.route('/predict', methods=['POST','GET'])\n",
    "def predict():\n",
    "    if request.method==\"POST\":\n",
    "        \n",
    "        html_input=[int(i) for i in request.form.values() ]\n",
    "        final_features=[np.array(html_input)]\n",
    "        prediction=lr.predict(final_features)\n",
    "        msg=round(prediction[0],2)\n",
    "    return render_template('result.html',msg=msg)       \n",
    "    \n",
    "if __name__=='__main__':\n",
    "    app.run()\n"
   ]
  },
  {
   "cell_type": "code",
   "execution_count": null,
   "id": "85897fe5",
   "metadata": {},
   "outputs": [],
   "source": []
  }
 ],
 "metadata": {
  "kernelspec": {
   "display_name": "Python 3",
   "language": "python",
   "name": "python3"
  },
  "language_info": {
   "codemirror_mode": {
    "name": "ipython",
    "version": 3
   },
   "file_extension": ".py",
   "mimetype": "text/x-python",
   "name": "python",
   "nbconvert_exporter": "python",
   "pygments_lexer": "ipython3",
   "version": "3.8.10"
  }
 },
 "nbformat": 4,
 "nbformat_minor": 5
}
